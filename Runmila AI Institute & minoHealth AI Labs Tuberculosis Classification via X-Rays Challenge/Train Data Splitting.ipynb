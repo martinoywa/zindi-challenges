{
 "cells": [
  {
   "cell_type": "code",
   "execution_count": 2,
   "metadata": {},
   "outputs": [],
   "source": [
    "import os\n",
    "import shutil\n",
    "import pandas as pd"
   ]
  },
  {
   "cell_type": "code",
   "execution_count": 3,
   "metadata": {},
   "outputs": [],
   "source": [
    "train = pd.read_csv('Train.csv')"
   ]
  },
  {
   "cell_type": "code",
   "execution_count": 4,
   "metadata": {},
   "outputs": [
    {
     "data": {
      "text/html": [
       "<div>\n",
       "<style scoped>\n",
       "    .dataframe tbody tr th:only-of-type {\n",
       "        vertical-align: middle;\n",
       "    }\n",
       "\n",
       "    .dataframe tbody tr th {\n",
       "        vertical-align: top;\n",
       "    }\n",
       "\n",
       "    .dataframe thead th {\n",
       "        text-align: right;\n",
       "    }\n",
       "</style>\n",
       "<table border=\"1\" class=\"dataframe\">\n",
       "  <thead>\n",
       "    <tr style=\"text-align: right;\">\n",
       "      <th></th>\n",
       "      <th>filename</th>\n",
       "      <th>ID</th>\n",
       "      <th>LABEL</th>\n",
       "    </tr>\n",
       "  </thead>\n",
       "  <tbody>\n",
       "    <tr>\n",
       "      <th>0</th>\n",
       "      <td>train/VTYNBFTO.png</td>\n",
       "      <td>VTYNBFTO</td>\n",
       "      <td>1</td>\n",
       "    </tr>\n",
       "    <tr>\n",
       "      <th>1</th>\n",
       "      <td>train/GVVXXDOZ.png</td>\n",
       "      <td>GVVXXDOZ</td>\n",
       "      <td>0</td>\n",
       "    </tr>\n",
       "    <tr>\n",
       "      <th>2</th>\n",
       "      <td>train/PMRSQLXN.png</td>\n",
       "      <td>PMRSQLXN</td>\n",
       "      <td>0</td>\n",
       "    </tr>\n",
       "    <tr>\n",
       "      <th>3</th>\n",
       "      <td>train/JXISWDUU.png</td>\n",
       "      <td>JXISWDUU</td>\n",
       "      <td>1</td>\n",
       "    </tr>\n",
       "    <tr>\n",
       "      <th>4</th>\n",
       "      <td>train/JVWMAACC.png</td>\n",
       "      <td>JVWMAACC</td>\n",
       "      <td>1</td>\n",
       "    </tr>\n",
       "    <tr>\n",
       "      <th>...</th>\n",
       "      <td>...</td>\n",
       "      <td>...</td>\n",
       "      <td>...</td>\n",
       "    </tr>\n",
       "    <tr>\n",
       "      <th>713</th>\n",
       "      <td>train/EWGJDECH.png</td>\n",
       "      <td>EWGJDECH</td>\n",
       "      <td>1</td>\n",
       "    </tr>\n",
       "    <tr>\n",
       "      <th>714</th>\n",
       "      <td>train/CJEVKQUT.png</td>\n",
       "      <td>CJEVKQUT</td>\n",
       "      <td>1</td>\n",
       "    </tr>\n",
       "    <tr>\n",
       "      <th>715</th>\n",
       "      <td>train/YDXXBDGI.png</td>\n",
       "      <td>YDXXBDGI</td>\n",
       "      <td>1</td>\n",
       "    </tr>\n",
       "    <tr>\n",
       "      <th>716</th>\n",
       "      <td>train/QLUOORWZ.png</td>\n",
       "      <td>QLUOORWZ</td>\n",
       "      <td>0</td>\n",
       "    </tr>\n",
       "    <tr>\n",
       "      <th>717</th>\n",
       "      <td>train/HFAGCLGV.png</td>\n",
       "      <td>HFAGCLGV</td>\n",
       "      <td>1</td>\n",
       "    </tr>\n",
       "  </tbody>\n",
       "</table>\n",
       "<p>718 rows × 3 columns</p>\n",
       "</div>"
      ],
      "text/plain": [
       "               filename        ID  LABEL\n",
       "0    train/VTYNBFTO.png  VTYNBFTO      1\n",
       "1    train/GVVXXDOZ.png  GVVXXDOZ      0\n",
       "2    train/PMRSQLXN.png  PMRSQLXN      0\n",
       "3    train/JXISWDUU.png  JXISWDUU      1\n",
       "4    train/JVWMAACC.png  JVWMAACC      1\n",
       "..                  ...       ...    ...\n",
       "713  train/EWGJDECH.png  EWGJDECH      1\n",
       "714  train/CJEVKQUT.png  CJEVKQUT      1\n",
       "715  train/YDXXBDGI.png  YDXXBDGI      1\n",
       "716  train/QLUOORWZ.png  QLUOORWZ      0\n",
       "717  train/HFAGCLGV.png  HFAGCLGV      1\n",
       "\n",
       "[718 rows x 3 columns]"
      ]
     },
     "execution_count": 4,
     "metadata": {},
     "output_type": "execute_result"
    }
   ],
   "source": [
    "train"
   ]
  },
  {
   "cell_type": "code",
   "execution_count": 5,
   "metadata": {},
   "outputs": [],
   "source": [
    "file_label = {train['filename'][i].split('/')[1]: train['LABEL'][i] for i in range(len(train))}"
   ]
  },
  {
   "cell_type": "code",
   "execution_count": 6,
   "metadata": {},
   "outputs": [],
   "source": [
    "path = 'train/'\n",
    "files = []"
   ]
  },
  {
   "cell_type": "code",
   "execution_count": 7,
   "metadata": {},
   "outputs": [],
   "source": [
    "for (dirpath, dirnames, filenames) in os.walk(path):\n",
    "    files.extend(filenames)"
   ]
  },
  {
   "cell_type": "code",
   "execution_count": 8,
   "metadata": {},
   "outputs": [],
   "source": [
    "for k in file_label.keys():\n",
    "    if k in files and file_label[k] == 0:\n",
    "        shutil.copy(path+k, 'data/train/0/')\n",
    "    elif k in files and file_label[k] == 1:\n",
    "        shutil.copy(path+k, 'data/train/1/')"
   ]
  },
  {
   "cell_type": "code",
   "execution_count": null,
   "metadata": {},
   "outputs": [],
   "source": []
  }
 ],
 "metadata": {
  "kernelspec": {
   "display_name": "Python 3",
   "language": "python",
   "name": "python3"
  },
  "language_info": {
   "codemirror_mode": {
    "name": "ipython",
    "version": 3
   },
   "file_extension": ".py",
   "mimetype": "text/x-python",
   "name": "python",
   "nbconvert_exporter": "python",
   "pygments_lexer": "ipython3",
   "version": "3.8.3"
  }
 },
 "nbformat": 4,
 "nbformat_minor": 4
}
