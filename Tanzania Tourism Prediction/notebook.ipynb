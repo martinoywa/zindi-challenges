{
 "cells": [
  {
   "cell_type": "code",
   "execution_count": null,
   "id": "d7e94678-c4a2-4665-b07d-f15e60bf6dd1",
   "metadata": {},
   "outputs": [],
   "source": [
    "# load the data"
   ]
  },
  {
   "cell_type": "code",
   "execution_count": null,
   "id": "f9bd174d-44cd-43f5-88f3-f66890bfef2a",
   "metadata": {},
   "outputs": [],
   "source": [
    "# eda preprocess the data"
   ]
  },
  {
   "cell_type": "code",
   "execution_count": null,
   "id": "8217a76a-e7a1-40cb-9aa5-bd60f23be00e",
   "metadata": {},
   "outputs": [],
   "source": [
    "# preprocess the data"
   ]
  },
  {
   "cell_type": "code",
   "execution_count": null,
   "id": "047642f8-e54c-4b6e-804e-d8876c4be682",
   "metadata": {},
   "outputs": [],
   "source": [
    "# ml process\n",
    "# 1. Model Selection\n",
    "# 2. Model Training\n",
    "# 3. Model Evaluation"
   ]
  },
  {
   "cell_type": "code",
   "execution_count": null,
   "id": "dac87978-11cd-477f-bce3-c37848637e58",
   "metadata": {},
   "outputs": [],
   "source": [
    "# submission"
   ]
  }
 ],
 "metadata": {
  "kernelspec": {
   "display_name": "default:Python",
   "language": "python",
   "name": "conda-env-default-py"
  },
  "language_info": {
   "codemirror_mode": {
    "name": "ipython",
    "version": 3
   },
   "file_extension": ".py",
   "mimetype": "text/x-python",
   "name": "python",
   "nbconvert_exporter": "python",
   "pygments_lexer": "ipython3",
   "version": "3.9.10"
  }
 },
 "nbformat": 4,
 "nbformat_minor": 5
}
